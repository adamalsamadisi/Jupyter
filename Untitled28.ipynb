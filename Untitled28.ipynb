{
 "cells": [
  {
   "cell_type": "code",
   "execution_count": 1,
   "id": "native-wales",
   "metadata": {
    "scrolled": true
   },
   "outputs": [
    {
     "data": {
      "application/vnd.jupyter.widget-view+json": {
       "model_id": "0fbc4c4d2c9c4cc1b789b28bb180db94",
       "version_major": 2,
       "version_minor": 0
      },
      "text/plain": [
       "Map(center=[40, -100], controls=(WidgetControl(options=['position', 'transparent_bg'], widget=HBox(children=(T…"
      ]
     },
     "metadata": {},
     "output_type": "display_data"
    }
   ],
   "source": [
    "import geemap\n",
    "import json\n",
    "import os\n",
    "import requests\n",
    "from geemap import geojson_to_ee, ee_to_geojson\n",
    "from ipyleaflet import GeoJSON\n",
    "import jsontable as jsontable\n",
    "import pandas as pd\n",
    "import geopandas as gpd\n",
    "\n",
    "Map = geemap.Map()\n",
    "Map\n",
    "\n",
    "file_path = os.path.abspath('../data/us-states.json')\n",
    "\n",
    "if not os.path.exists(file_path):\n",
    "    url = 'https://github.com/giswqs/geemap/draw/master/examples/data/us-states.json'\n",
    "    r = requests.get(url)\n",
    "    with open(file_path, 'w') as f:\n",
    "        f.write(r.content.decode(\"utf-8\"))        \n",
    "\n",
    "with open(file_path) as f:\n",
    "    json_data = json.load(f)\n",
    "\n",
    "json_layer = GeoJSON(data=json_data, name='US States JSON', hover_style={'fillColor': 'red' , 'fillOpacity': 0.5})\n",
    "Map.add_layer(json_layer)\n",
    "\n",
    "ee_data = geojson_to_ee(json_data)\n",
    "Map.addLayer(ee_data, {}, \"US States EE\")\n",
    "\n",
    "json_data_2 = ee_to_geojson(ee_data)\n",
    "json_layer_2 = GeoJSON(data=json_data_2, name='US States EE JSON', hover_style={'fillColor': 'red' , 'fillOpacity': 0.5})\n",
    "Map.add_layer(json_layer_2)\n",
    "\n",
    "file_path = os.path.abspath('../data/countries.json')\n",
    "\n",
    "if not os.path.exists(file_path):\n",
    "    url = 'https://github.com/giswqs/geemap/raw/master/examples/data/countries.json'\n",
    "    r = requests.get(url)\n",
    "    with open(file_path, 'w') as f:\n",
    "        f.write(r.content.decode(\"utf-8\"))        \n",
    "\n",
    "with open(file_path) as f:\n",
    "    json_data = json.load(f)\n",
    "\n",
    "json_layer = GeoJSON(data=json_data, name='Counties', hover_style={'fillColor': 'red' , 'fillOpacity': 0.5})\n",
    "Map.add_layer(json_layer)\n",
    "\n",
    "from ipywidgets import Text, HTML\n",
    "from ipyleaflet import WidgetControl, GeoJSON \n",
    "\n",
    "html1 = HTML('''\n",
    "    <h4>Country</h4>\n",
    "    Hover over a country\n",
    "''')\n",
    "html1.layout.margin = '0px 20px 20px 20px'\n",
    "control1 = WidgetControl(widget=html1, position='bottomright')\n",
    "Map.add_control(control1)\n",
    "\n",
    "def update_html(feature, **kwargs):\n",
    "    html1.value = '''\n",
    "        <h4>Country code: <b>{}</b></h4>\n",
    "        Country name: {}\n",
    "    '''.format(feature['id'], feature['properties']['name'])\n",
    "\n",
    "json_layer.on_hover(update_html)\n",
    "Map\n"
   ]
  },
  {
   "cell_type": "code",
   "execution_count": 22,
   "id": "removed-quality",
   "metadata": {
    "scrolled": false
   },
   "outputs": [
    {
     "data": {
      "application/vnd.jupyter.widget-view+json": {
       "model_id": "9ad4a665f7c4499b9b1e2075b0b98df9",
       "version_major": 2,
       "version_minor": 0
      },
      "text/plain": [
       "Map(center=[40, -100], controls=(WidgetControl(options=['position', 'transparent_bg'], widget=HBox(children=(T…"
      ]
     },
     "metadata": {},
     "output_type": "display_data"
    }
   ],
   "source": [
    "import geemap\n",
    "import pandas as pd\n",
    "import geopandas as gpd\n",
    "import fiona\n",
    "import ipyleaflet\n",
    "import json\n",
    "import os\n",
    "import requests\n",
    "from ipywidgets import link, FloatSlider\n",
    "from branca.colormap import linear\n",
    "\n",
    "\n",
    "fiona.supported_drivers\n",
    "\n",
    "ViolentCrimeRate = pd.read_csv(os.path.abspath('../data/US_violent_crime.csv'))\n",
    "\n",
    "\n",
    "Map = geemap.Map()\n",
    "Map\n",
    "\n",
    "\n",
    "url = 'https://github.com/giswqs/geemap/raw/master/examples/data/us-states.json'\n",
    "states = gpd.read_file(url)\n",
    "ViolentCrimeRate = ViolentCrimeRate.rename(columns={'Unnamed: 0':'name'})\n",
    "\n",
    "states=states.merge(ViolentCrimeRate,on='name')\n",
    "states2 = gpd.GeoDataFrame(states)\n",
    "states3 = states2.to_file(os.path.abspath('../data/states34.json'),driver='GeoJSON')\n",
    "MurderRate =  dict(zip(states['id'].tolist(), ViolentCrimeRate['Murder'].tolist()))\n",
    "\n",
    "\n",
    "def load_data(url, filename, file_type):\n",
    "    r = requests.get(url)\n",
    "    with open(filename, 'w') as f:\n",
    "        f.write(r.content.decode(\"utf-8\"))\n",
    "    with open(filename, 'r') as f:\n",
    "        return file_type(f)\n",
    "\n",
    "geo_json_data = load_data(\n",
    "    'https://raw.githubusercontent.com/jupyter-widgets/ipyleaflet/master/examples/us-states.json',\n",
    "    'us-states.json',\n",
    "     json.load)\n",
    "\n",
    "layerbase = ipyleaflet.Choropleth(\n",
    "    geo_data=geo_json_data,\n",
    "    choro_data=MurderRate,\n",
    "    colormap=linear.YlOrRd_04,\n",
    "    border_color='black',\n",
    "    style={'fillOpacity': 0.8, 'dashArray': '5, 5'})\n",
    "\n",
    "Map.add_layer(layerbase)\n",
    "\n",
    "file_path = os.path.abspath('../data/states34.json')\n",
    "\n",
    "with open(file_path) as f:\n",
    "    json_data = json.load(f)\n",
    "\n",
    "json_layer = GeoJSON(data=json_data, name='US_States',style={\n",
    "        'opacity': 1, 'dashArray': '9', 'fillOpacity': 0.1, 'weight': 1\n",
    "    }, hover_style={'fillColor': 'red' , 'fillOpacity': 0.5})\n",
    "\n",
    "Map.add_layer(json_layer)\n",
    "\n",
    "\n",
    "html1 = HTML('''\n",
    "    <h2>State</h2>\n",
    "    Hover over a State\n",
    "''')\n",
    "html1.layout.margin = '0px 20px 20px 20px'\n",
    "control1 = WidgetControl(widget=html1, position='bottomright')\n",
    "Map.add_control(control1)\n",
    "\n",
    "def update_html(feature, **kwargs):\n",
    "    html1.value = '''\n",
    "        <h3>State: <b>{}</b></h3>\n",
    "        <h3>Murder Rate (per 100,000): {}</h3>\n",
    "    '''.format(feature['properties']['name'], feature['properties']['Murder'])\n",
    "\n",
    "json_layer.on_hover(update_html)\n",
    "Map"
   ]
  }
 ],
 "metadata": {
  "kernelspec": {
   "display_name": "Python 3",
   "language": "python",
   "name": "python3"
  },
  "language_info": {
   "codemirror_mode": {
    "name": "ipython",
    "version": 3
   },
   "file_extension": ".py",
   "mimetype": "text/x-python",
   "name": "python",
   "nbconvert_exporter": "python",
   "pygments_lexer": "ipython3",
   "version": "3.9.1"
  }
 },
 "nbformat": 4,
 "nbformat_minor": 5
}
